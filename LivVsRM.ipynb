{
 "cells": [
  {
   "cell_type": "code",
   "execution_count": 9,
   "metadata": {
    "collapsed": true
   },
   "outputs": [],
   "source": [
    "import numpy as np\n",
    "import pandas as pd \n",
    "import seaborn as sns \n",
    "import matplotlib.pyplot as plt\n",
    "import math\n",
    "from __future__ import division\n",
    "liv = pd.read_csv(\"C:/Users/win7/Downloads/liverpoolucl.csv\")\n",
    "rm = pd.read_csv(\"C:/Users/win7/Downloads/realmadriducl.csv\")"
   ]
  },
  {
   "cell_type": "code",
   "execution_count": 10,
   "metadata": {},
   "outputs": [
    {
     "data": {
      "text/html": [
       "<div>\n",
       "<style>\n",
       "    .dataframe thead tr:only-child th {\n",
       "        text-align: right;\n",
       "    }\n",
       "\n",
       "    .dataframe thead th {\n",
       "        text-align: left;\n",
       "    }\n",
       "\n",
       "    .dataframe tbody tr th {\n",
       "        vertical-align: top;\n",
       "    }\n",
       "</style>\n",
       "<table border=\"1\" class=\"dataframe\">\n",
       "  <thead>\n",
       "    <tr style=\"text-align: right;\">\n",
       "      <th></th>\n",
       "      <th>SNO</th>\n",
       "      <th>HTEAM</th>\n",
       "      <th>ATEAM</th>\n",
       "      <th>HTSCO</th>\n",
       "      <th>ATSCO</th>\n",
       "    </tr>\n",
       "  </thead>\n",
       "  <tbody>\n",
       "    <tr>\n",
       "      <th>0</th>\n",
       "      <td>1</td>\n",
       "      <td>HOFFENHEIM</td>\n",
       "      <td>LIVERPOOL</td>\n",
       "      <td>1</td>\n",
       "      <td>2</td>\n",
       "    </tr>\n",
       "    <tr>\n",
       "      <th>1</th>\n",
       "      <td>2</td>\n",
       "      <td>LIVERPOOL</td>\n",
       "      <td>HOFFENHEIM</td>\n",
       "      <td>4</td>\n",
       "      <td>2</td>\n",
       "    </tr>\n",
       "    <tr>\n",
       "      <th>2</th>\n",
       "      <td>3</td>\n",
       "      <td>MANCHESTER CITY</td>\n",
       "      <td>LIVERPOOL</td>\n",
       "      <td>5</td>\n",
       "      <td>0</td>\n",
       "    </tr>\n",
       "    <tr>\n",
       "      <th>3</th>\n",
       "      <td>4</td>\n",
       "      <td>LIVERPOOL</td>\n",
       "      <td>SEVILLA</td>\n",
       "      <td>2</td>\n",
       "      <td>2</td>\n",
       "    </tr>\n",
       "    <tr>\n",
       "      <th>4</th>\n",
       "      <td>5</td>\n",
       "      <td>SPARTAK MOSCOW</td>\n",
       "      <td>LIVERPOOL</td>\n",
       "      <td>1</td>\n",
       "      <td>1</td>\n",
       "    </tr>\n",
       "    <tr>\n",
       "      <th>5</th>\n",
       "      <td>6</td>\n",
       "      <td>LIVERPOOL</td>\n",
       "      <td>MANCHESTER UNITED</td>\n",
       "      <td>0</td>\n",
       "      <td>0</td>\n",
       "    </tr>\n",
       "    <tr>\n",
       "      <th>6</th>\n",
       "      <td>7</td>\n",
       "      <td>MARIBOR</td>\n",
       "      <td>LIVERPOOL</td>\n",
       "      <td>0</td>\n",
       "      <td>7</td>\n",
       "    </tr>\n",
       "    <tr>\n",
       "      <th>7</th>\n",
       "      <td>8</td>\n",
       "      <td>TOTTENHAM</td>\n",
       "      <td>LIVERPOOL</td>\n",
       "      <td>4</td>\n",
       "      <td>1</td>\n",
       "    </tr>\n",
       "    <tr>\n",
       "      <th>8</th>\n",
       "      <td>9</td>\n",
       "      <td>LIVERPOOL</td>\n",
       "      <td>MARIBOR</td>\n",
       "      <td>3</td>\n",
       "      <td>0</td>\n",
       "    </tr>\n",
       "    <tr>\n",
       "      <th>9</th>\n",
       "      <td>10</td>\n",
       "      <td>SEVILLA</td>\n",
       "      <td>LIVERPOOL</td>\n",
       "      <td>3</td>\n",
       "      <td>3</td>\n",
       "    </tr>\n",
       "    <tr>\n",
       "      <th>10</th>\n",
       "      <td>11</td>\n",
       "      <td>LIVERPOOL</td>\n",
       "      <td>CHELSEA</td>\n",
       "      <td>1</td>\n",
       "      <td>1</td>\n",
       "    </tr>\n",
       "    <tr>\n",
       "      <th>11</th>\n",
       "      <td>12</td>\n",
       "      <td>LIVERPOOL</td>\n",
       "      <td>SPARTAK MOSCOW</td>\n",
       "      <td>7</td>\n",
       "      <td>0</td>\n",
       "    </tr>\n",
       "    <tr>\n",
       "      <th>12</th>\n",
       "      <td>13</td>\n",
       "      <td>LIVERPOOL</td>\n",
       "      <td>MANCHESTER CITY</td>\n",
       "      <td>4</td>\n",
       "      <td>3</td>\n",
       "    </tr>\n",
       "    <tr>\n",
       "      <th>13</th>\n",
       "      <td>14</td>\n",
       "      <td>LIVERPOOL</td>\n",
       "      <td>TOTTENHAM</td>\n",
       "      <td>2</td>\n",
       "      <td>2</td>\n",
       "    </tr>\n",
       "    <tr>\n",
       "      <th>14</th>\n",
       "      <td>15</td>\n",
       "      <td>PORTO</td>\n",
       "      <td>LIVERPOOL</td>\n",
       "      <td>0</td>\n",
       "      <td>5</td>\n",
       "    </tr>\n",
       "    <tr>\n",
       "      <th>15</th>\n",
       "      <td>16</td>\n",
       "      <td>LIVERPOOL</td>\n",
       "      <td>PORTO</td>\n",
       "      <td>0</td>\n",
       "      <td>0</td>\n",
       "    </tr>\n",
       "    <tr>\n",
       "      <th>16</th>\n",
       "      <td>17</td>\n",
       "      <td>MANCHESTER UNITED</td>\n",
       "      <td>LIVERPOOL</td>\n",
       "      <td>2</td>\n",
       "      <td>1</td>\n",
       "    </tr>\n",
       "    <tr>\n",
       "      <th>17</th>\n",
       "      <td>18</td>\n",
       "      <td>LIVERPOOL</td>\n",
       "      <td>MANCHESTER CITY</td>\n",
       "      <td>3</td>\n",
       "      <td>0</td>\n",
       "    </tr>\n",
       "    <tr>\n",
       "      <th>18</th>\n",
       "      <td>19</td>\n",
       "      <td>MANCHESTER CITY</td>\n",
       "      <td>LIVERPOOL</td>\n",
       "      <td>1</td>\n",
       "      <td>2</td>\n",
       "    </tr>\n",
       "    <tr>\n",
       "      <th>19</th>\n",
       "      <td>20</td>\n",
       "      <td>LIVERPOOL</td>\n",
       "      <td>ROMA</td>\n",
       "      <td>5</td>\n",
       "      <td>2</td>\n",
       "    </tr>\n",
       "    <tr>\n",
       "      <th>20</th>\n",
       "      <td>21</td>\n",
       "      <td>ROMA</td>\n",
       "      <td>LIVERPOOL</td>\n",
       "      <td>4</td>\n",
       "      <td>2</td>\n",
       "    </tr>\n",
       "    <tr>\n",
       "      <th>21</th>\n",
       "      <td>22</td>\n",
       "      <td>CHELSEA</td>\n",
       "      <td>LIVERPOOL</td>\n",
       "      <td>1</td>\n",
       "      <td>0</td>\n",
       "    </tr>\n",
       "  </tbody>\n",
       "</table>\n",
       "</div>"
      ],
      "text/plain": [
       "    SNO              HTEAM              ATEAM  HTSCO  ATSCO\n",
       "0     1         HOFFENHEIM          LIVERPOOL      1      2\n",
       "1     2          LIVERPOOL         HOFFENHEIM      4      2\n",
       "2     3    MANCHESTER CITY          LIVERPOOL      5      0\n",
       "3     4          LIVERPOOL            SEVILLA      2      2\n",
       "4     5     SPARTAK MOSCOW          LIVERPOOL      1      1\n",
       "5     6          LIVERPOOL  MANCHESTER UNITED      0      0\n",
       "6     7            MARIBOR          LIVERPOOL      0      7\n",
       "7     8          TOTTENHAM          LIVERPOOL      4      1\n",
       "8     9          LIVERPOOL            MARIBOR      3      0\n",
       "9    10            SEVILLA          LIVERPOOL      3      3\n",
       "10   11          LIVERPOOL            CHELSEA      1      1\n",
       "11   12          LIVERPOOL     SPARTAK MOSCOW      7      0\n",
       "12   13          LIVERPOOL    MANCHESTER CITY      4      3\n",
       "13   14          LIVERPOOL          TOTTENHAM      2      2\n",
       "14   15              PORTO          LIVERPOOL      0      5\n",
       "15   16          LIVERPOOL              PORTO      0      0\n",
       "16   17  MANCHESTER UNITED          LIVERPOOL      2      1\n",
       "17   18          LIVERPOOL    MANCHESTER CITY      3      0\n",
       "18   19    MANCHESTER CITY          LIVERPOOL      1      2\n",
       "19   20          LIVERPOOL              ROMA       5      2\n",
       "20   21               ROMA          LIVERPOOL      4      2\n",
       "21   22            CHELSEA          LIVERPOOL      1      0"
      ]
     },
     "execution_count": 10,
     "metadata": {},
     "output_type": "execute_result"
    }
   ],
   "source": [
    "liv"
   ]
  },
  {
   "cell_type": "code",
   "execution_count": 11,
   "metadata": {},
   "outputs": [
    {
     "data": {
      "text/html": [
       "<div>\n",
       "<style>\n",
       "    .dataframe thead tr:only-child th {\n",
       "        text-align: right;\n",
       "    }\n",
       "\n",
       "    .dataframe thead th {\n",
       "        text-align: left;\n",
       "    }\n",
       "\n",
       "    .dataframe tbody tr th {\n",
       "        vertical-align: top;\n",
       "    }\n",
       "</style>\n",
       "<table border=\"1\" class=\"dataframe\">\n",
       "  <thead>\n",
       "    <tr style=\"text-align: right;\">\n",
       "      <th></th>\n",
       "      <th>SNO</th>\n",
       "      <th>HTEAM</th>\n",
       "      <th>ATEAM</th>\n",
       "      <th>HTSCO</th>\n",
       "      <th>ATSCO</th>\n",
       "    </tr>\n",
       "  </thead>\n",
       "  <tbody>\n",
       "    <tr>\n",
       "      <th>0</th>\n",
       "      <td>1</td>\n",
       "      <td>REAL MADRID</td>\n",
       "      <td>VALENCIA</td>\n",
       "      <td>2</td>\n",
       "      <td>2</td>\n",
       "    </tr>\n",
       "    <tr>\n",
       "      <th>1</th>\n",
       "      <td>2</td>\n",
       "      <td>REAL MADRID</td>\n",
       "      <td>APOEL</td>\n",
       "      <td>3</td>\n",
       "      <td>0</td>\n",
       "    </tr>\n",
       "    <tr>\n",
       "      <th>2</th>\n",
       "      <td>3</td>\n",
       "      <td>DORTMUND</td>\n",
       "      <td>REAL MADRID</td>\n",
       "      <td>1</td>\n",
       "      <td>3</td>\n",
       "    </tr>\n",
       "    <tr>\n",
       "      <th>3</th>\n",
       "      <td>4</td>\n",
       "      <td>REAL MADRID</td>\n",
       "      <td>TOTTENHAM</td>\n",
       "      <td>1</td>\n",
       "      <td>1</td>\n",
       "    </tr>\n",
       "    <tr>\n",
       "      <th>4</th>\n",
       "      <td>5</td>\n",
       "      <td>TOTTENHAM</td>\n",
       "      <td>REAL MADRID</td>\n",
       "      <td>3</td>\n",
       "      <td>1</td>\n",
       "    </tr>\n",
       "    <tr>\n",
       "      <th>5</th>\n",
       "      <td>6</td>\n",
       "      <td>ATLETICO MADRID</td>\n",
       "      <td>REAL MADRID</td>\n",
       "      <td>0</td>\n",
       "      <td>0</td>\n",
       "    </tr>\n",
       "    <tr>\n",
       "      <th>6</th>\n",
       "      <td>7</td>\n",
       "      <td>APOEL</td>\n",
       "      <td>REAL MADRID</td>\n",
       "      <td>0</td>\n",
       "      <td>6</td>\n",
       "    </tr>\n",
       "    <tr>\n",
       "      <th>7</th>\n",
       "      <td>8</td>\n",
       "      <td>REAL MADRID</td>\n",
       "      <td>DORTMUND</td>\n",
       "      <td>3</td>\n",
       "      <td>2</td>\n",
       "    </tr>\n",
       "    <tr>\n",
       "      <th>8</th>\n",
       "      <td>9</td>\n",
       "      <td>REAL MADRID</td>\n",
       "      <td>SEVILLA</td>\n",
       "      <td>5</td>\n",
       "      <td>0</td>\n",
       "    </tr>\n",
       "    <tr>\n",
       "      <th>9</th>\n",
       "      <td>10</td>\n",
       "      <td>REAL MADRID</td>\n",
       "      <td>BARCELONA</td>\n",
       "      <td>0</td>\n",
       "      <td>3</td>\n",
       "    </tr>\n",
       "    <tr>\n",
       "      <th>10</th>\n",
       "      <td>11</td>\n",
       "      <td>VALENCIA</td>\n",
       "      <td>REAL MADRID</td>\n",
       "      <td>1</td>\n",
       "      <td>4</td>\n",
       "    </tr>\n",
       "    <tr>\n",
       "      <th>11</th>\n",
       "      <td>12</td>\n",
       "      <td>REAL MADRID</td>\n",
       "      <td>PSG</td>\n",
       "      <td>3</td>\n",
       "      <td>1</td>\n",
       "    </tr>\n",
       "    <tr>\n",
       "      <th>12</th>\n",
       "      <td>13</td>\n",
       "      <td>PSG</td>\n",
       "      <td>REAL MADRID</td>\n",
       "      <td>1</td>\n",
       "      <td>2</td>\n",
       "    </tr>\n",
       "    <tr>\n",
       "      <th>13</th>\n",
       "      <td>14</td>\n",
       "      <td>JUVENTUS</td>\n",
       "      <td>REAL MADRID</td>\n",
       "      <td>0</td>\n",
       "      <td>3</td>\n",
       "    </tr>\n",
       "    <tr>\n",
       "      <th>14</th>\n",
       "      <td>15</td>\n",
       "      <td>REAL MADRID</td>\n",
       "      <td>ATLETICO MADRID</td>\n",
       "      <td>1</td>\n",
       "      <td>1</td>\n",
       "    </tr>\n",
       "    <tr>\n",
       "      <th>15</th>\n",
       "      <td>16</td>\n",
       "      <td>REAL MADRID</td>\n",
       "      <td>JUVENTUS</td>\n",
       "      <td>1</td>\n",
       "      <td>3</td>\n",
       "    </tr>\n",
       "    <tr>\n",
       "      <th>16</th>\n",
       "      <td>17</td>\n",
       "      <td>BAYERN MUNICH</td>\n",
       "      <td>REAL MADRID</td>\n",
       "      <td>1</td>\n",
       "      <td>2</td>\n",
       "    </tr>\n",
       "    <tr>\n",
       "      <th>17</th>\n",
       "      <td>18</td>\n",
       "      <td>REAL MADRID</td>\n",
       "      <td>BAYERN MUNICH</td>\n",
       "      <td>2</td>\n",
       "      <td>2</td>\n",
       "    </tr>\n",
       "    <tr>\n",
       "      <th>18</th>\n",
       "      <td>19</td>\n",
       "      <td>BARCELONA</td>\n",
       "      <td>REAL MADRID</td>\n",
       "      <td>2</td>\n",
       "      <td>2</td>\n",
       "    </tr>\n",
       "    <tr>\n",
       "      <th>19</th>\n",
       "      <td>20</td>\n",
       "      <td>SEVILLA</td>\n",
       "      <td>REAL MADRID</td>\n",
       "      <td>3</td>\n",
       "      <td>2</td>\n",
       "    </tr>\n",
       "  </tbody>\n",
       "</table>\n",
       "</div>"
      ],
      "text/plain": [
       "    SNO            HTEAM            ATEAM  HTSCO  ATSCO\n",
       "0     1      REAL MADRID         VALENCIA      2      2\n",
       "1     2      REAL MADRID            APOEL      3      0\n",
       "2     3         DORTMUND      REAL MADRID      1      3\n",
       "3     4      REAL MADRID        TOTTENHAM      1      1\n",
       "4     5        TOTTENHAM      REAL MADRID      3      1\n",
       "5     6  ATLETICO MADRID      REAL MADRID      0      0\n",
       "6     7            APOEL      REAL MADRID      0      6\n",
       "7     8      REAL MADRID         DORTMUND      3      2\n",
       "8     9      REAL MADRID          SEVILLA      5      0\n",
       "9    10      REAL MADRID        BARCELONA      0      3\n",
       "10   11         VALENCIA      REAL MADRID      1      4\n",
       "11   12      REAL MADRID              PSG      3      1\n",
       "12   13              PSG      REAL MADRID      1      2\n",
       "13   14         JUVENTUS      REAL MADRID      0      3\n",
       "14   15      REAL MADRID  ATLETICO MADRID      1      1\n",
       "15   16      REAL MADRID         JUVENTUS      1      3\n",
       "16   17    BAYERN MUNICH      REAL MADRID      1      2\n",
       "17   18      REAL MADRID    BAYERN MUNICH      2      2\n",
       "18   19        BARCELONA      REAL MADRID      2      2\n",
       "19   20          SEVILLA      REAL MADRID      3      2"
      ]
     },
     "execution_count": 11,
     "metadata": {},
     "output_type": "execute_result"
    }
   ],
   "source": [
    "rm"
   ]
  },
  {
   "cell_type": "code",
   "execution_count": 12,
   "metadata": {},
   "outputs": [
    {
     "name": "stdout",
     "output_type": "stream",
     "text": [
      "Goals scored at home = 31\n",
      "Goals conceded at home = 12\n",
      "Goals scored by liverpool away from home = 24\n",
      "Goals conceded by liverpool away from home = 22\n"
     ]
    }
   ],
   "source": [
    "hf_attack_liv = liv.loc[(liv[\"HTEAM\"]==\"LIVERPOOL\"), [\"HTSCO\"]]\n",
    "home_games_liv = len(hf_attack_liv.index)\n",
    "home_goals_scored_liv = sum(hf_attack_liv[\"HTSCO\"])\n",
    "hf_defence_liv = liv.loc[(liv[\"HTEAM\"]==\"LIVERPOOL\"), [\"ATSCO\"]]\n",
    "home_goals_conceded_liv = sum(hf_defence_liv[\"ATSCO\"])\n",
    "af_attack_liv = liv.loc[(liv[\"ATEAM\"]==\"LIVERPOOL\"), [\"ATSCO\"]]\n",
    "away_games_liv = len(af_attack_liv.index)\n",
    "away_goals_scored_liv = sum(af_attack_liv[\"ATSCO\"])\n",
    "af_defence_liv = liv.loc[(liv[\"ATEAM\"]==\"LIVERPOOL\"), [\"HTSCO\"]]\n",
    "away_goals_conceded_liv = sum(af_defence_liv[\"HTSCO\"])\n",
    "print \"Goals scored at home =\",home_goals_scored_liv\n",
    "print \"Goals conceded at home =\",home_goals_conceded_liv\n",
    "print \"Goals scored by liverpool away from home =\",away_goals_scored_liv \n",
    "print \"Goals conceded by liverpool away from home =\",away_goals_conceded_liv"
   ]
  },
  {
   "cell_type": "code",
   "execution_count": 13,
   "metadata": {},
   "outputs": [
    {
     "name": "stdout",
     "output_type": "stream",
     "text": [
      "Goals scored by Real Madrid at home = 21\n",
      "Goals conceded by Real Madrid at home = 15\n",
      "Goals scored by Real Madrid away from home = 25\n",
      "Goals conceded by Real Madrid away from home = 12\n"
     ]
    }
   ],
   "source": [
    "hf_attack_rm = rm.loc[(rm[\"HTEAM\"]==\"REAL MADRID\"), [\"HTSCO\"]]\n",
    "home_games_rm = len(hf_attack_rm.index)\n",
    "home_goals_scored_rm = sum(hf_attack_rm[\"HTSCO\"])\n",
    "hf_defence_rm = rm.loc[(rm[\"HTEAM\"]==\"REAL MADRID\"), [\"ATSCO\"]]\n",
    "home_goals_conceded_rm = sum(hf_defence_rm[\"ATSCO\"])\n",
    "af_attack_rm = rm.loc[(rm[\"ATEAM\"]==\"REAL MADRID\"), [\"ATSCO\"]]\n",
    "away_games_rm = len(af_attack_rm.index)\n",
    "away_goals_scored_rm = sum(af_attack_rm[\"ATSCO\"])\n",
    "af_defence_rm = rm.loc[(rm[\"ATEAM\"]==\"REAL MADRID\"), [\"HTSCO\"]]\n",
    "away_goals_conceded_rm = sum(af_defence_rm[\"HTSCO\"])\n",
    "print \"Goals scored by Real Madrid at home =\",home_goals_scored_rm\n",
    "print \"Goals conceded by Real Madrid at home =\",home_goals_conceded_rm\n",
    "print \"Goals scored by Real Madrid away from home =\",away_goals_scored_rm\n",
    "print \"Goals conceded by Real Madrid away from home =\",away_goals_conceded_rm"
   ]
  },
  {
   "cell_type": "code",
   "execution_count": 15,
   "metadata": {},
   "outputs": [
    {
     "data": {
      "text/plain": [
       "(2.8182, 1.0909, 2.1818, 2.0)"
      ]
     },
     "execution_count": 15,
     "metadata": {},
     "output_type": "execute_result"
    }
   ],
   "source": [
    "avg_goals_scored_home_liv = round(float(home_goals_scored_liv/home_games_liv), 4)\n",
    "avg_goals_conceded_home_liv = round(float(home_goals_conceded_liv/home_games_liv), 4)\n",
    "avg_goals_scored_away_liv = round(float(away_goals_scored_liv/away_games_liv), 4)\n",
    "avg_goals_conceded_away_liv = round(float(away_goals_conceded_liv/away_games_liv), 4) \n",
    "avg_goals_scored_home_liv, avg_goals_conceded_home_liv, avg_goals_scored_away_liv, avg_goals_conceded_away_liv"
   ]
  },
  {
   "cell_type": "code",
   "execution_count": 16,
   "metadata": {},
   "outputs": [
    {
     "data": {
      "text/plain": [
       "(2.1, 1.5, 2.5, 1.2)"
      ]
     },
     "execution_count": 16,
     "metadata": {},
     "output_type": "execute_result"
    }
   ],
   "source": [
    "avg_goals_scored_home_rm = round(float(home_goals_scored_rm/home_games_rm), 4)\n",
    "avg_goals_conceded_home_rm = round(float(home_goals_conceded_rm/home_games_rm), 4)\n",
    "avg_goals_scored_away_rm = round(float(away_goals_scored_rm/away_games_rm), 4)\n",
    "avg_goals_conceded_away_rm = round(float(away_goals_conceded_rm/away_games_rm), 4) \n",
    "avg_goals_scored_home_rm, avg_goals_conceded_home_rm, avg_goals_scored_away_rm, avg_goals_conceded_away_rm"
   ]
  },
  {
   "cell_type": "code",
   "execution_count": 88,
   "metadata": {
    "scrolled": true
   },
   "outputs": [
    {
     "name": "stdout",
     "output_type": "stream",
     "text": [
      "1.7742 1.4274 1.4274 1.7742\n"
     ]
    }
   ],
   "source": [
    "goals_scored_home_cl = 220\n",
    "goals_conceded_home_cl = 177 \n",
    "goals_scored_away_cl = 177 \n",
    "goals_conceded_away_cl = 220 \n",
    "total_games_cl = 124\n",
    "avg_goals_scored_home_cl = round(float(goals_scored_home_cl/total_games_cl), 4)\n",
    "avg_goals_conceded_home_cl = round(float(goals_conceded_home_cl/total_games_cl), 4)\n",
    "avg_goals_scored_away_cl = round(float(goals_scored_away_cl/total_games_cl), 4)\n",
    "avg_goals_conceded_away_cl = round(float(goals_conceded_away_cl/total_games_cl), 4)\n",
    "print avg_goals_scored_home_cl, avg_goals_conceded_home_cl, avg_goals_scored_away_cl, avg_goals_conceded_away_cl"
   ]
  },
  {
   "cell_type": "code",
   "execution_count": 89,
   "metadata": {},
   "outputs": [
    {
     "name": "stdout",
     "output_type": "stream",
     "text": [
      "1.7514 1.1273 1.5285 0.6764\n"
     ]
    }
   ],
   "source": [
    "rm_attack_strength = round(float(avg_goals_scored_away_rm/avg_goals_scored_away_cl), 4)\n",
    "liv_defence_strength = round(float(avg_goals_conceded_away_liv/avg_goals_conceded_away_cl), 4) \n",
    "liv_attack_strength = round(float(avg_goals_scored_away_liv/avg_goals_scored_away_cl), 4) \n",
    "rm_defence_strength = round(float(avg_goals_conceded_away_rm/avg_goals_conceded_away_cl), 4)\n",
    "print rm_attack_strength, liv_defence_strength, liv_attack_strength, rm_defence_strength"
   ]
  },
  {
   "cell_type": "code",
   "execution_count": 90,
   "metadata": {},
   "outputs": [
    {
     "name": "stdout",
     "output_type": "stream",
     "text": [
      "2.8182 - 1.4758\n"
     ]
    }
   ],
   "source": [
    "projected_goals_rm = round((rm_attack_strength*liv_defence_strength*avg_goals_scored_away_cl), 4) \n",
    "projected_goals_liv = round((liv_attack_strength*rm_defence_strength*avg_goals_scored_away_cl), 4)\n",
    "print projected_goals_rm, \"-\", projected_goals_liv  "
   ]
  },
  {
   "cell_type": "code",
   "execution_count": 91,
   "metadata": {},
   "outputs": [
    {
     "name": "stdout",
     "output_type": "stream",
     "text": [
      "          Poisson % for the number of goals scored\n",
      "-----------------------------------------------------\n",
      "Goals Real Madrid Liverpool\n",
      "  0       5.97     22.86\n",
      "  1       16.83     33.74\n",
      "  2       23.71     24.89\n",
      "  3       22.28     12.25\n",
      "  4       15.69     4.52\n",
      "  5       8.85     1.33\n"
     ]
    }
   ],
   "source": [
    "i = 0\n",
    "print \"         \", \"Poisson % for the number of goals scored\"\n",
    "print \"-----------------------------------------------------\"\n",
    "print \"Goals\", \"Real Madrid\", \"Liverpool\"\n",
    "for i in range(0,6):\n",
    "    print \" \", (i), \"     \", (round((((projected_goals_rm**i)*math.exp(-projected_goals_rm))/math.factorial(i)), 4)*100), \"   \",(round((((projected_goals_liv**i)*math.exp(-projected_goals_liv))/math.factorial(i)), 4)*100)"
   ]
  },
  {
   "cell_type": "code",
   "execution_count": 92,
   "metadata": {},
   "outputs": [
    {
     "name": "stdout",
     "output_type": "stream",
     "text": [
      "5.97 16.83 23.71 22.28 15.69 8.85\n"
     ]
    }
   ],
   "source": [
    "rmarr = [0] * 6\n",
    "livarr = [0] * 6\n",
    "i = 0\n",
    "for i in range(0,6): \n",
    "    rmarr[i] = round(((((projected_goals_rm**i)*math.exp(-projected_goals_rm))/math.factorial(i))*100), 2)\n",
    "    livarr[i] = round(((((projected_goals_liv**i)*math.exp(-projected_goals_liv))/math.factorial(i))*100), 2)\n",
    "\n",
    "for i in range(0,6):\n",
    "    print (rmarr[i]), \n"
   ]
  },
  {
   "cell_type": "code",
   "execution_count": 69,
   "metadata": {},
   "outputs": [
    {
     "ename": "IndexError",
     "evalue": "list index out of range",
     "output_type": "error",
     "traceback": [
      "\u001b[1;31m\u001b[0m",
      "\u001b[1;31mIndexError\u001b[0mTraceback (most recent call last)",
      "\u001b[1;32m<ipython-input-69-fd702987a8f1>\u001b[0m in \u001b[0;36m<module>\u001b[1;34m()\u001b[0m\n\u001b[0;32m      3\u001b[0m \u001b[0mi\u001b[0m \u001b[1;33m=\u001b[0m \u001b[1;36m1\u001b[0m\u001b[1;33m\u001b[0m\u001b[0m\n\u001b[0;32m      4\u001b[0m \u001b[1;32mfor\u001b[0m \u001b[0mi\u001b[0m \u001b[1;32min\u001b[0m \u001b[0mrange\u001b[0m\u001b[1;33m(\u001b[0m\u001b[0mlen\u001b[0m\u001b[1;33m(\u001b[0m\u001b[0mx\u001b[0m\u001b[1;33m)\u001b[0m\u001b[1;33m)\u001b[0m\u001b[1;33m:\u001b[0m\u001b[1;33m\u001b[0m\u001b[0m\n\u001b[1;32m----> 5\u001b[1;33m     \u001b[0mpos\u001b[0m\u001b[1;33m[\u001b[0m\u001b[1;33m:\u001b[0m\u001b[1;36m2\u001b[0m\u001b[1;33m,\u001b[0m\u001b[0mi\u001b[0m\u001b[1;33m]\u001b[0m \u001b[1;33m=\u001b[0m \u001b[0mrmarr\u001b[0m\u001b[1;33m[\u001b[0m\u001b[0mi\u001b[0m\u001b[1;33m]\u001b[0m\u001b[1;33m\u001b[0m\u001b[0m\n\u001b[0m\u001b[0;32m      6\u001b[0m \u001b[1;32mprint\u001b[0m\u001b[1;33m(\u001b[0m\u001b[0mpos\u001b[0m\u001b[1;33m)\u001b[0m\u001b[1;33m\u001b[0m\u001b[0m\n",
      "\u001b[1;31mIndexError\u001b[0m: list index out of range"
     ]
    }
   ],
   "source": []
  },
  {
   "cell_type": "code",
   "execution_count": 93,
   "metadata": {},
   "outputs": [
    {
     "name": "stdout",
     "output_type": "stream",
     "text": [
      "[[  0.     5.97  16.83  23.71  22.28  15.69   8.85]\n",
      " [ 22.86   1.     1.     1.     1.     1.     1.  ]\n",
      " [ 33.74   1.     1.     1.     1.     1.     1.  ]\n",
      " [ 24.89   1.     1.     1.     1.     1.     1.  ]\n",
      " [ 12.25   1.     1.     1.     1.     1.     1.  ]\n",
      " [  4.52   1.     1.     1.     1.     1.     1.  ]\n",
      " [  1.33   1.     1.     1.     1.     1.     1.  ]]\n"
     ]
    }
   ],
   "source": [
    "pos = np.ones((7,7))\n",
    "i = 1 \n",
    "for i in range(len(pos)):\n",
    "    pos[:1,i] = rmarr[i-1]\n",
    "\n",
    "for i in range(len(pos)):\n",
    "    pos[i,:1] = livarr[i-1]\n",
    "pos[:1,:1] = 0\n",
    "print(pos)"
   ]
  },
  {
   "cell_type": "code",
   "execution_count": null,
   "metadata": {},
   "outputs": [],
   "source": []
  },
  {
   "cell_type": "code",
   "execution_count": 94,
   "metadata": {},
   "outputs": [
    {
     "name": "stdout",
     "output_type": "stream",
     "text": [
      "[[  0.     5.97  16.83  23.71  22.28  15.69   8.85]\n",
      " [ 22.86   1.36   3.85   5.42   5.09   3.59   2.02]\n",
      " [ 33.74   2.01   5.68   8.     7.52   5.29   2.99]\n",
      " [ 24.89   1.49   4.19   5.9    5.55   3.91   2.2 ]\n",
      " [ 12.25   0.73   2.06   2.9    2.73   1.92   1.08]\n",
      " [  4.52   0.27   0.76   1.07   1.01   0.71   0.4 ]\n",
      " [  1.33   0.08   0.22   0.32   0.3    0.21   0.12]]\n"
     ]
    }
   ],
   "source": [
    "i = 1\n",
    "j = 1\n",
    "for i in range(1,7):\n",
    "    for j in range(1,7):\n",
    "        pos[i,j] = round(((pos[i,0]*pos[0,j])/100),2)\n",
    "        \n",
    "print(pos)"
   ]
  },
  {
   "cell_type": "code",
   "execution_count": 95,
   "metadata": {},
   "outputs": [
    {
     "name": "stdout",
     "output_type": "stream",
     "text": [
      "[[ 0.    0.    0.    0.    0.    0.    0.  ]\n",
      " [ 0.    1.36  3.85  5.42  5.09  3.59  2.02]\n",
      " [ 0.    2.01  5.68  8.    7.52  5.29  2.99]\n",
      " [ 0.    1.49  4.19  5.9   5.55  3.91  2.2 ]\n",
      " [ 0.    0.73  2.06  2.9   2.73  1.92  1.08]\n",
      " [ 0.    0.27  0.76  1.07  1.01  0.71  0.4 ]\n",
      " [ 0.    0.08  0.22  0.32  0.3   0.21  0.12]]\n"
     ]
    }
   ],
   "source": [
    "i = 0\n",
    "j = 0 \n",
    "for i in range(0,7):\n",
    "    pos[:1,i] = 0\n",
    "    pos[i,:1] = 0\n",
    "print(pos)"
   ]
  },
  {
   "cell_type": "code",
   "execution_count": 96,
   "metadata": {},
   "outputs": [
    {
     "name": "stdout",
     "output_type": "stream",
     "text": [
      "Draw Percentage = 16.5\n"
     ]
    }
   ],
   "source": [
    "draw_percentage = 0\n",
    "i = 0 \n",
    "j = 0\n",
    "for i in range(len(pos)):\n",
    "    for j in range(len(pos)):\n",
    "        if(i==j):\n",
    "            draw_percentage += pos[i,j]\n",
    "            \n",
    "print \"Draw Percentage =\", draw_percentage"
   ]
  },
  {
   "cell_type": "code",
   "execution_count": 97,
   "metadata": {},
   "outputs": [
    {
     "data": {
      "text/plain": [
       "58.829999999999991"
      ]
     },
     "execution_count": 97,
     "metadata": {},
     "output_type": "execute_result"
    }
   ],
   "source": [
    "rm_win_percentage = 0\n",
    "i = 0 \n",
    "j = 0\n",
    "for i in range(len(pos)):\n",
    "    for j in range(len(pos)):\n",
    "        if(i<j):\n",
    "            rm_win_percentage += pos[i,j]\n",
    "\n",
    "print \"Real Madrid Win Pecentage =\", rm_win_percentage "
   ]
  },
  {
   "cell_type": "code",
   "execution_count": 98,
   "metadata": {},
   "outputs": [
    {
     "data": {
      "text/plain": [
       "17.620000000000001"
      ]
     },
     "execution_count": 98,
     "metadata": {},
     "output_type": "execute_result"
    }
   ],
   "source": [
    "liv_win_percentage = 0\n",
    "i = 0 \n",
    "j = 0\n",
    "for i in range(len(pos)):\n",
    "    for j in range(len(pos)):\n",
    "        if(i>j):\n",
    "            liv_win_percentage += pos[i,j]\n",
    "liv_win_percentage "
   ]
  },
  {
   "cell_type": "code",
   "execution_count": 99,
   "metadata": {},
   "outputs": [
    {
     "name": "stdout",
     "output_type": "stream",
     "text": [
      "92.95 92.95\n"
     ]
    }
   ],
   "source": [
    "sum_x = 0\n",
    "for i in range(0,7):\n",
    "    for j in range(0,7):\n",
    "        if (i>j or i<j or i==j):\n",
    "            sum_x += pos[i,j]\n",
    "                    \n",
    "print sum_x, draw_percentage + rm_win_percentage + liv_win_percentage "
   ]
  },
  {
   "cell_type": "code",
   "execution_count": 103,
   "metadata": {},
   "outputs": [
    {
     "name": "stdout",
     "output_type": "stream",
     "text": [
      "[[ 1.36  3.85  5.42  5.09  3.59  2.02]\n",
      " [ 2.01  5.68  8.    7.52  5.29  2.99]\n",
      " [ 1.49  4.19  5.9   5.55  3.91  2.2 ]\n",
      " [ 0.73  2.06  2.9   2.73  1.92  1.08]\n",
      " [ 0.27  0.76  1.07  1.01  0.71  0.4 ]\n",
      " [ 0.08  0.22  0.32  0.3   0.21  0.12]]\n"
     ]
    }
   ],
   "source": [
    "pos = np.delete(pos, (0), axis=0)\n",
    "pos = np.delete(pos, (0), axis=1)\n",
    "print(pos)"
   ]
  },
  {
   "cell_type": "code",
   "execution_count": 137,
   "metadata": {},
   "outputs": [
    {
     "name": "stdout",
     "output_type": "stream",
     "text": [
      "Real Madrid  2 - 1 Liverpool\n"
     ]
    }
   ],
   "source": [
    "max_num = pos.max()\n",
    "i = 0 \n",
    "j = 0 \n",
    "for i in range(len(pos)):\n",
    "    for j in range(len(pos)):\n",
    "        if(pos[i,j]==max_num):\n",
    "            print \"Real Madrid \",j,\"-\",i, \"Liverpool\"\n",
    "            \n",
    "            "
   ]
  },
  {
   "cell_type": "code",
   "execution_count": null,
   "metadata": {
    "collapsed": true
   },
   "outputs": [],
   "source": []
  }
 ],
 "metadata": {
  "kernelspec": {
   "display_name": "Python 2",
   "language": "python",
   "name": "python2"
  },
  "language_info": {
   "codemirror_mode": {
    "name": "ipython",
    "version": 2
   },
   "file_extension": ".py",
   "mimetype": "text/x-python",
   "name": "python",
   "nbconvert_exporter": "python",
   "pygments_lexer": "ipython2",
   "version": "2.7.13"
  }
 },
 "nbformat": 4,
 "nbformat_minor": 2
}
